{
 "cells": [
  {
   "cell_type": "markdown",
   "metadata": {},
   "source": [
    "# Social Network Analysis on trending Hashtags"
   ]
  },
  {
   "cell_type": "markdown",
   "metadata": {},
   "source": [
    "## Crawling Twitter Data"
   ]
  },
  {
   "cell_type": "code",
   "execution_count": null,
   "metadata": {},
   "outputs": [],
   "source": [
    "# Import \n",
    "import pandas as pd\n",
    "import numpy as np\n",
    "import tweepy\n",
    "import matplotlib.pyplot as plt\n",
    "import networkx as nx\n",
    "from networkx.readwrite import json_graph\n",
    "from plotly.offline import download_plotlyjs, init_notebook_mode,  iplot, plot\n",
    "init_notebook_mode(connected=True)"
   ]
  },
  {
   "cell_type": "code",
   "execution_count": null,
   "metadata": {},
   "outputs": [],
   "source": [
    "# Call twitter api keys\n",
    "consumer_key = 'xxx'\n",
    "consumer_secret = 'xxx'\n",
    "access_token = 'xxx'\n",
    "access_secret = 'xxx'\n",
    "auth = tweepy.OAuthHandler(consumer_key, consumer_secret)\n",
    "auth.set_access_token(access_token, access_secret)\n",
    "api = tweepy.API(auth)"
   ]
  },
  {
   "cell_type": "code",
   "execution_count": null,
   "metadata": {},
   "outputs": [],
   "source": [
    "# Search keywords\n",
    "tweets = tweepy.Cursor(api.search,q=\"\",tweet_mode=\"extended\",since=\"2020-02-26\",lang=\"id\").items()\n",
    "message,retweet_count,retweet,created_at,user_name,user_id=[],[],[],[],[],[]\n",
    "count = 0\n",
    "for tweet in tweets:\n",
    "    count=count+1\n",
    "    if hasattr(tweet, 'retweeted_status'):\n",
    "        message.append(tweet.retweeted_status.full_text)\n",
    "        retweet_count.append(tweet.retweet_count)\n",
    "        retweet.append(tweet.retweeted_status.user.screen_name)\n",
    "        created_at.append(tweet.created_at)\n",
    "        user_name.append(tweet.user.screen_name)\n",
    "        user_id.append(tweet.user.id)\n",
    "    else:\n",
    "        message.append(tweet.full_text)\n",
    "        retweet_count.append(tweet.retweet_count)\n",
    "        retweet.append(print(''))\n",
    "        created_at.append(tweet.created_at)\n",
    "        user_name.append(tweet.user.screen_name)\n",
    "        user_id.append(tweet.user.id)\n",
    "# insert tweets to database\n",
    "for i in range(count):\n",
    "    data=[message[i], retweet_count[i], retweet[i], created_at[i], user_name[i], user_id[i]]"
   ]
  },
  {
   "cell_type": "code",
   "execution_count": null,
   "metadata": {},
   "outputs": [],
   "source": [
    "# make dataframe\n",
    "df=pd.DataFrame({\n",
    "    'author':retweet,\n",
    "    'username':user_name,\n",
    "    'retweet_count':retweet_count,\n",
    "    'tweets':message\n",
    "})\n",
    "df = df.sort_values(['author'], ascending=[1]);\n",
    "df[df['author'].isnull()]"
   ]
  },
  {
   "cell_type": "code",
   "execution_count": null,
   "metadata": {},
   "outputs": [],
   "source": [
    "# Remove null account\n",
    "# df=df.dropn()"
   ]
  },
  {
   "cell_type": "markdown",
   "metadata": {},
   "source": [
    "## Matplotlib"
   ]
  },
  {
   "cell_type": "code",
   "execution_count": null,
   "metadata": {},
   "outputs": [],
   "source": [
    "# Netwrokx\n",
    "net = nx.from_pandas_edgelist(df, source=\"\", target=\"\")\n",
    "# Plot it\n",
    "nx.draw(G, with_labels=False, node_size=25)\n",
    "plt.show()"
   ]
  },
  {
   "cell_type": "markdown",
   "metadata": {},
   "source": [
    "## Plotly"
   ]
  },
  {
   "cell_type": "code",
   "execution_count": null,
   "metadata": {},
   "outputs": [],
   "source": [
    "G = nx.convert_node_labels_to_integers(net, first_label=0, ordering='default', label_attribute=None)\n",
    "pos=nx.fruchterman_reingold_layout(G)\n",
    "#create labels\n",
    "poslabs=nx.fruchterman_reingold_layout(net)\n",
    "labels=list(poslabs) + list(' : ')\n",
    "#create edges\n",
    "Xe=[]\n",
    "Ye=[]\n",
    "for e in G.edges():\n",
    "    Xe.extend([pos[e[0]][0], pos[e[1]][0], None])\n",
    "    Ye.extend([pos[e[0]][1], pos[e[1]][1], None])\n",
    "trace_edges=dict(type='scatter',\n",
    "                 mode='lines',\n",
    "                 x=Xe,\n",
    "                 y=Ye,\n",
    "                 line=dict(width=1, color='rgb(25,25,25)'),\n",
    "                 hoverinfo='none' \n",
    "                )\n",
    "\n",
    "#create nodes\n",
    "Xn=[pos[k][0] for k in range(len(pos))]\n",
    "Yn=[pos[k][1] for k in range(len(pos))]\n",
    "trace_nodes=dict(type='scatter',\n",
    "                 x=Xn, \n",
    "                 y=Yn,\n",
    "                 mode='markers',\n",
    "                 marker=dict(showscale=True,size=5,color=[],colorscale='Rainbow',reversescale=True,colorbar=dict(\n",
    "                    thickness=15,\n",
    "                    title='Node Connections',\n",
    "                    xanchor='left',\n",
    "                    titleside='right')),\n",
    "                 text=labels,\n",
    "                 hoverinfo='text')\n",
    "\n",
    "#scale color by size\n",
    "for node, adjacencies in enumerate(G.adjacency()):\n",
    "    trace_nodes['marker']['color']+=tuple([len(adjacencies[1])])\n",
    "#plot\n",
    "axis=dict(showline=False, # hide axis line, grid, ticklabels and  title\n",
    "          zeroline=False,\n",
    "          showgrid=False,\n",
    "          showticklabels=False,\n",
    "          title='' \n",
    "          )\n",
    "layout=dict(title= 'Social Network Analysis',  \n",
    "            font= dict(family='Balto'),\n",
    "            width=1000,\n",
    "            height=1000,\n",
    "            autosize=False,\n",
    "            showlegend=False,\n",
    "            xaxis=axis,\n",
    "            yaxis=axis,\n",
    "            margin=dict(l=40,r=40,b=85,t=100,pad=0,\n",
    "            ),\n",
    "            hovermode='closest',\n",
    "#     plot_bgcolor='#000000',           \n",
    "    )\n",
    "fig = dict(data=[trace_edges,trace_nodes], layout=layout)\n",
    "#run plot\n",
    "iplot(fig)\n",
    "plot(fig, filename='myplot.html')"
   ]
  },
  {
   "cell_type": "markdown",
   "metadata": {},
   "source": [
    "## D3.JS"
   ]
  },
  {
   "cell_type": "code",
   "execution_count": null,
   "metadata": {},
   "outputs": [],
   "source": [
    "# create degree\n",
    "degrees = nx.degree()\n",
    "ds = {}\n",
    "for name, d in degrees: \n",
    "    ds[name] = d\n",
    "\n",
    "nx.set_node_attributes(net, ds, 'degree')"
   ]
  },
  {
   "cell_type": "code",
   "execution_count": null,
   "metadata": {},
   "outputs": [],
   "source": [
    "# Convert number to name\n",
    "a=list(ds)\n",
    "c=a+a\n",
    "c.sort()\n",
    "\n",
    "def Convert(lst): \n",
    "    res_dct = {lst[i]: lst[i + 1] for i in range(0, len(lst), 2)} \n",
    "    return res_dct \n",
    "d=Convert(c)\n",
    "nx.set_node_attributes(net,d, 'name')"
   ]
  },
  {
   "cell_type": "code",
   "execution_count": null,
   "metadata": {},
   "outputs": [],
   "source": [
    "# save as json file\n",
    "data = json_graph.node_link_data(net)\n",
    "with open('graph.json', 'w') as fp:\n",
    "    json.dump(data, fp)"
   ]
  }
 ],
 "metadata": {
  "kernelspec": {
   "display_name": "Python 3",
   "language": "python",
   "name": "python3"
  },
  "language_info": {
   "codemirror_mode": {
    "name": "ipython",
    "version": 3
   },
   "file_extension": ".py",
   "mimetype": "text/x-python",
   "name": "python",
   "nbconvert_exporter": "python",
   "pygments_lexer": "ipython3",
   "version": "3.7.1"
  }
 },
 "nbformat": 4,
 "nbformat_minor": 2
}
