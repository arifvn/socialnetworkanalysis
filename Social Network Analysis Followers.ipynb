{
 "cells": [
  {
   "cell_type": "markdown",
   "metadata": {},
   "source": [
    "# Social Network Analysis on Followers"
   ]
  },
  {
   "cell_type": "markdown",
   "metadata": {},
   "source": [
    "## Crawling Twitter Data"
   ]
  },
  {
   "cell_type": "code",
   "execution_count": null,
   "metadata": {},
   "outputs": [],
   "source": [
    "# Import \n",
    "import pandas as pd\n",
    "import numpy as np\n",
    "import tweepy\n",
    "import matplotlib.pyplot as plt\n",
    "import networkx as nx\n",
    "from networkx.readwrite import json_graph\n",
    "from plotly.offline import download_plotlyjs, init_notebook_mode,  iplot, plot\n",
    "init_notebook_mode(connected=True)"
   ]
  },
  {
   "cell_type": "code",
   "execution_count": null,
   "metadata": {},
   "outputs": [],
   "source": [
    "# Call twitter api keys\n",
    "consumer_key = 'xxx'\n",
    "consumer_secret = 'xxx'\n",
    "access_token = 'xxx'\n",
    "access_secret = 'xxx'\n",
    "auth = tweepy.OAuthHandler(consumer_key, consumer_secret)\n",
    "auth.set_access_token(access_token, access_secret)\n",
    "api = tweepy.API(auth)"
   ]
  },
  {
   "cell_type": "code",
   "execution_count": null,
   "metadata": {},
   "outputs": [],
   "source": [
    "# Search main user followers\n",
    "main_user=''\n",
    "tweets = tweepy.Cursor(api.followers,screen_name=main_user, tweet_mode=\"extended\").items()\n",
    "nama=[]\n",
    "mcount=0\n",
    "for user in tweets:\n",
    "    mcount=mcount+1\n",
    "    nama.append(user.screen_name)"
   ]
  },
  {
   "cell_type": "code",
   "execution_count": null,
   "metadata": {},
   "outputs": [],
   "source": [
    "# search followers from main followers\n",
    "data= pd.DataFrame(columns = [\"a\", \"b\"])\n",
    "x =len(nama)\n",
    "try:\n",
    "    for i in range(x):\n",
    "        author=[]\n",
    "        # Search keywords and crawl twitter\n",
    "        tweets = tweepy.Cursor(api.followers,screen_name=nama[i],tweet_mode=\"extended\").items()\n",
    "        user_name=[]\n",
    "        count=0\n",
    "        for user in tweets:\n",
    "            count=count+1\n",
    "            user_name.append(user.screen_name)\n",
    "        author.extend([nama[i] for y in range(count)])\n",
    "        for z in range(count):\n",
    "            a_series = pd.Series([author[z],user_name[z]], index = data.columns)\n",
    "            data = data.append(a_series, ignore_index=True)\n",
    "except tweepy.tweeperror:\n",
    "    print('found private user...')"
   ]
  },
  {
   "cell_type": "code",
   "execution_count": null,
   "metadata": {},
   "outputs": [],
   "source": [
    "# Add main author to dataframe\n",
    "author.extend([main_user for k in range(mcount)])\n",
    "for l in range(mcount):\n",
    "    a_series = pd.Series([author[l],nama[l]], index = data.columns)\n",
    "    data = data.append(a_series, ignore_index=True)"
   ]
  },
  {
   "cell_type": "markdown",
   "metadata": {},
   "source": [
    "## Matplotlib"
   ]
  },
  {
   "cell_type": "code",
   "execution_count": null,
   "metadata": {},
   "outputs": [],
   "source": [
    "# Netwrokx\n",
    "net = nx.from_pandas_edgelist(data, source=\"\", target=\"\")\n",
    "# Plot it\n",
    "nx.draw(G, with_labels=False, node_size=25)\n",
    "plt.show()"
   ]
  },
  {
   "cell_type": "markdown",
   "metadata": {},
   "source": [
    "## Plotly"
   ]
  },
  {
   "cell_type": "code",
   "execution_count": null,
   "metadata": {},
   "outputs": [],
   "source": [
    "G = nx.convert_node_labels_to_integers(net, first_label=0, ordering='default', label_attribute=None)\n",
    "pos=nx.fruchterman_reingold_layout(G)\n",
    "#create labels\n",
    "poslabs=nx.fruchterman_reingold_layout(net)\n",
    "labels=list(poslabs) + list(' : ')\n",
    "#create edges\n",
    "Xe=[]\n",
    "Ye=[]\n",
    "for e in G.edges():\n",
    "    Xe.extend([pos[e[0]][0], pos[e[1]][0], None])\n",
    "    Ye.extend([pos[e[0]][1], pos[e[1]][1], None])\n",
    "trace_edges=dict(type='scatter',\n",
    "                 mode='lines',\n",
    "                 x=Xe,\n",
    "                 y=Ye,\n",
    "                 line=dict(width=1, color='rgb(25,25,25)'),\n",
    "                 hoverinfo='none' \n",
    "                )\n",
    "\n",
    "#create nodes\n",
    "Xn=[pos[k][0] for k in range(len(pos))]\n",
    "Yn=[pos[k][1] for k in range(len(pos))]\n",
    "trace_nodes=dict(type='scatter',\n",
    "                 x=Xn, \n",
    "                 y=Yn,\n",
    "                 mode='markers',\n",
    "                 marker=dict(showscale=True,size=5,color=[],colorscale='Rainbow',reversescale=True,colorbar=dict(\n",
    "                    thickness=15,\n",
    "                    title='Node Connections',\n",
    "                    xanchor='left',\n",
    "                    titleside='right')),\n",
    "                 text=labels,\n",
    "                 hoverinfo='text')\n",
    "\n",
    "#scale color by size\n",
    "for node, adjacencies in enumerate(G.adjacency()):\n",
    "    trace_nodes['marker']['color']+=tuple([len(adjacencies[1])])\n",
    "#plot\n",
    "axis=dict(showline=False, # hide axis line, grid, ticklabels and  title\n",
    "          zeroline=False,\n",
    "          showgrid=False,\n",
    "          showticklabels=False,\n",
    "          title='' \n",
    "          )\n",
    "layout=dict(title= 'Social Network Analysis',  \n",
    "            font= dict(family='Balto'),\n",
    "            width=1000,\n",
    "            height=1000,\n",
    "            autosize=False,\n",
    "            showlegend=False,\n",
    "            xaxis=axis,\n",
    "            yaxis=axis,\n",
    "            margin=dict(l=40,r=40,b=85,t=100,pad=0,\n",
    "            ),\n",
    "            hovermode='closest',\n",
    "#     plot_bgcolor='#000000',           \n",
    "    )\n",
    "fig = dict(data=[trace_edges,trace_nodes], layout=layout)\n",
    "#run plot\n",
    "iplot(fig)\n",
    "plot(fig, filename='myplot.html')"
   ]
  },
  {
   "cell_type": "markdown",
   "metadata": {},
   "source": [
    "## D3.JS"
   ]
  },
  {
   "cell_type": "code",
   "execution_count": null,
   "metadata": {},
   "outputs": [],
   "source": [
    "# create degree\n",
    "degrees = nx.degree()\n",
    "ds = {}\n",
    "for name, d in degrees: \n",
    "    ds[name] = d\n",
    "\n",
    "nx.set_node_attributes(net, ds, 'degree')"
   ]
  },
  {
   "cell_type": "code",
   "execution_count": null,
   "metadata": {},
   "outputs": [],
   "source": [
    "# Convert number to name\n",
    "a=list(ds)\n",
    "c=a+a\n",
    "c.sort()\n",
    "\n",
    "def Convert(lst): \n",
    "    res_dct = {lst[i]: lst[i + 1] for i in range(0, len(lst), 2)} \n",
    "    return res_dct \n",
    "d=Convert(c)\n",
    "nx.set_node_attributes(net,d, 'name')"
   ]
  },
  {
   "cell_type": "code",
   "execution_count": null,
   "metadata": {},
   "outputs": [],
   "source": [
    "# save as json file\n",
    "data = json_graph.node_link_data(net)\n",
    "with open('graph.json', 'w') as fp:\n",
    "    json.dump(data, fp)"
   ]
  }
 ],
 "metadata": {
  "kernelspec": {
   "display_name": "Python 3",
   "language": "python",
   "name": "python3"
  },
  "language_info": {
   "codemirror_mode": {
    "name": "ipython",
    "version": 3
   },
   "file_extension": ".py",
   "mimetype": "text/x-python",
   "name": "python",
   "nbconvert_exporter": "python",
   "pygments_lexer": "ipython3",
   "version": "3.7.1"
  }
 },
 "nbformat": 4,
 "nbformat_minor": 2
}
